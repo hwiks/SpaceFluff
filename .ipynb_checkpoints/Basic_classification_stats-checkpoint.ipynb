{
 "cells": [
  {
   "cell_type": "markdown",
   "metadata": {},
   "source": [
    "# Basic classification stats"
   ]
  },
  {
   "cell_type": "markdown",
   "metadata": {},
   "source": [
    "These script is heavily inspired from https://github.com/zooniverse/Data-digging/blob/master/scripts_GeneralPython/basic_classification_processing.py"
   ]
  },
  {
   "cell_type": "code",
   "execution_count": 67,
   "metadata": {},
   "outputs": [],
   "source": [
    "import numpy as np \n",
    "import pandas as pd\n",
    "import json\n",
    "from datetime import date"
   ]
  },
  {
   "cell_type": "code",
   "execution_count": 68,
   "metadata": {},
   "outputs": [],
   "source": [
    "def gini(list_of_values):\n",
    "    sorted_list = sorted(list_of_values)\n",
    "    height, area = 0, 0\n",
    "    for value in sorted_list:\n",
    "        height += value\n",
    "        area += height - value / 2.\n",
    "    fair_area = height * len(list_of_values) / 2\n",
    "    return (fair_area - area) / fair_area"
   ]
  },
  {
   "cell_type": "markdown",
   "metadata": {},
   "source": [
    "Space Fluff, at the time of Beta, has 3 workflows: \n",
    "    - 'Classify!'\n",
    "    - 'Classify on the go!'\n",
    "    - 'Hardcore version!'\n",
    "These are all based on simple multiple choice questions. "
   ]
  },
  {
   "cell_type": "code",
   "execution_count": 69,
   "metadata": {},
   "outputs": [],
   "source": [
    "workflow_classify = '~/Desktop/SUNDIAL/images/beta_classify-classifications.csv'\n",
    "workflow_on_the_go = '~/Desktop/SUNDIAL/images/beta_classify-on-the-go-classifications.csv'\n",
    "workflow_hardcore = '~/Desktop/SUNDIAL/images/beta_classify-hardcore-edition-classifications.csv'\n",
    "workflow_all = '~/Desktop/SUNDIAL/images/beta_space-fluff-classifications.csv'"
   ]
  },
  {
   "cell_type": "code",
   "execution_count": 70,
   "metadata": {},
   "outputs": [],
   "source": [
    "classifications_classify = pd.read_csv(workflow_classify)\n",
    "classifications_on_the_go = pd.read_csv(workflow_on_the_go)\n",
    "classifications_hardcore = pd.read_csv(workflow_hardcore)\n",
    "classifications_all = pd.read_csv(workflow_all)"
   ]
  },
  {
   "cell_type": "markdown",
   "metadata": {},
   "source": [
    "If you want to select a certain period of time, you can use this snippets here:"
   ]
  },
  {
   "cell_type": "code",
   "execution_count": 71,
   "metadata": {},
   "outputs": [],
   "source": [
    "## To select between two dates\n",
    "#classifications['created_at'] = pd.to_datetime(classifications['created_at'])\n",
    "#classifications[(classifications['created_at'] > pd.Timestamp(date(2020,10,20)))& (classifications['created_at'] < pd.Timestamp(date(2020,10,21)))]\n",
    "\n",
    "## To select after a certain date\n",
    "\n",
    "#classifications['created_at'] = pd.to_datetime(classifications['created_at'])\n",
    "#classifications = classifications[classifications['created_at'] > pd.Timestamp(date(2020,10,20))]\n",
    "\n",
    "## Remember to turn the data type back to strings\n",
    "\n",
    "#classifications['created_at'] = str(classifications['created_at'])"
   ]
  },
  {
   "cell_type": "markdown",
   "metadata": {},
   "source": [
    "In our case, we want to select the classifications made during the Beta Phase. "
   ]
  },
  {
   "cell_type": "code",
   "execution_count": 72,
   "metadata": {},
   "outputs": [],
   "source": [
    "#for all classifications: 32229\n",
    "classifications_all = classifications_all[32239:]\n",
    "#for 'Classify!': 6295\n",
    "classifications_classify = classifications_classify[6295:]\n",
    "#for 'Classify on the go!': 19989\n",
    "classifications_on_the_go = classifications_on_the_go[19989:]\n",
    "#for 'Classify: hardcore edition!': 5945\n",
    "classifications_hardcore = classifications_hardcore[5945:]"
   ]
  },
  {
   "cell_type": "code",
   "execution_count": 73,
   "metadata": {},
   "outputs": [],
   "source": [
    "# grab the subject counts \n",
    "n_subj_tot_all  = len(classifications_all.subject_data.unique())\n",
    "by_subject_all = classifications_all.groupby('subject_data')\n",
    "subj_class_all = by_subject_all.created_at.aggregate('count')\n",
    "\n",
    "n_subj_tot_classify  = len(classifications_classify.subject_data.unique())\n",
    "by_subject_classify = classifications_classify.groupby('subject_data')\n",
    "subj_class_classify = by_subject_classify.created_at.aggregate('count')\n",
    "\n",
    "n_subj_tot_on_the_go  = len(classifications_on_the_go.subject_data.unique())\n",
    "by_subject_on_the_go = classifications_on_the_go.groupby('subject_data')\n",
    "subj_class_on_the_go = by_subject_on_the_go.created_at.aggregate('count')\n",
    "\n",
    "n_subj_tot_hardcore  = len(classifications_hardcore.subject_data.unique())\n",
    "by_subject_hardcore = classifications_hardcore.groupby('subject_data')\n",
    "subj_class_hardcore = by_subject_hardcore.created_at.aggregate('count')"
   ]
  },
  {
   "cell_type": "code",
   "execution_count": 74,
   "metadata": {},
   "outputs": [],
   "source": [
    "# basic stats on how classified the subjects are\n",
    "subj_class_mean_all = np.mean(subj_class_all)\n",
    "subj_class_med_all  = np.median(subj_class_all)\n",
    "subj_class_min_all  = np.min(subj_class_all)\n",
    "subj_class_max_all  = np.max(subj_class_all)\n",
    "\n",
    "subj_class_mean_classify = np.mean(subj_class_classify)\n",
    "subj_class_med_classify  = np.median(subj_class_classify)\n",
    "subj_class_min_classify  = np.min(subj_class_classify)\n",
    "subj_class_max_classify  = np.max(subj_class_classify)\n",
    "\n",
    "subj_class_mean_on_the_go = np.mean(subj_class_on_the_go)\n",
    "subj_class_med_on_the_go  = np.median(subj_class_on_the_go)\n",
    "subj_class_min_on_the_go  = np.min(subj_class_on_the_go)\n",
    "subj_class_max_on_the_go  = np.max(subj_class_on_the_go)\n",
    "\n",
    "subj_class_mean_hardcore = np.mean(subj_class_hardcore)\n",
    "subj_class_med_hardcore  = np.median(subj_class_hardcore)\n",
    "subj_class_min_hardcore  = np.min(subj_class_hardcore)\n",
    "subj_class_max_hardcore  = np.max(subj_class_hardcore)"
   ]
  },
  {
   "cell_type": "code",
   "execution_count": 75,
   "metadata": {},
   "outputs": [],
   "source": [
    "all_users_all = classifications_all.user_name.unique()\n",
    "by_user_all = classifications_all.groupby('user_name')\n",
    "\n",
    "all_users_classify = classifications_classify.user_name.unique()\n",
    "by_user_classify = classifications_classify.groupby('user_name')\n",
    "\n",
    "all_users_on_the_go = classifications_on_the_go.user_name.unique()\n",
    "by_user_on_the_go = classifications_on_the_go.groupby('user_name')\n",
    "\n",
    "all_users_hardcore = classifications_hardcore.user_name.unique()\n",
    "by_user_hardcore = classifications_hardcore.groupby('user_name')"
   ]
  },
  {
   "cell_type": "code",
   "execution_count": 76,
   "metadata": {},
   "outputs": [],
   "source": [
    "# get total classification and user counts for all classifications\n",
    "n_class_tot_all = len(classifications_all)\n",
    "n_users_tot_all = len(all_users_all)\n",
    "\n",
    "unregistered_all = [q.startswith(\"not-logged-in\") for q in all_users_all]\n",
    "n_unreg_all = sum(unregistered_all)\n",
    "n_reg_all   = n_users_tot_all - n_unreg_all"
   ]
  },
  {
   "cell_type": "code",
   "execution_count": 77,
   "metadata": {},
   "outputs": [],
   "source": [
    "# get total classification and user counts for Classify\n",
    "n_class_tot_classify = len(classifications_classify)\n",
    "n_users_tot_classify = len(all_users_classify)\n",
    "\n",
    "unregistered_classify = [q.startswith(\"not-logged-in\") for q in all_users_classify]\n",
    "n_unreg_classify = sum(unregistered_classify)\n",
    "n_reg_classify = n_users_tot_classify - n_unreg_classify"
   ]
  },
  {
   "cell_type": "code",
   "execution_count": 78,
   "metadata": {},
   "outputs": [],
   "source": [
    "# get total classification and user counts for on the go\n",
    "n_class_tot_on_the_go = len(classifications_on_the_go)\n",
    "n_users_tot_on_the_go = len(all_users_on_the_go)\n",
    "\n",
    "unregistered_on_the_go = [q.startswith(\"not-logged-in\") for q in all_users_on_the_go]\n",
    "n_unreg_on_the_go = sum(unregistered_on_the_go)\n",
    "n_reg_on_the_go = n_users_tot_on_the_go - n_unreg_on_the_go"
   ]
  },
  {
   "cell_type": "code",
   "execution_count": 79,
   "metadata": {},
   "outputs": [],
   "source": [
    "# get total classification and user counts for hardcore\n",
    "n_class_tot_hardcore = len(classifications_hardcore)\n",
    "n_users_tot_hardcore = len(all_users_hardcore)\n",
    "\n",
    "unregistered_hardcore = [q.startswith(\"not-logged-in\") for q in all_users_hardcore]\n",
    "n_unreg_hardcore = sum(unregistered_hardcore)\n",
    "n_reg_hardcore = n_users_tot_hardcore - n_unreg_hardcore"
   ]
  },
  {
   "cell_type": "code",
   "execution_count": 80,
   "metadata": {},
   "outputs": [
    {
     "data": {
      "text/plain": [
       "user_name\n",
       "Liava                                 766\n",
       "not-logged-in-5bab565a8aafe38c711e    404\n",
       "ktarkin                               322\n",
       "Vdeboer75                             322\n",
       "laura.fishman                         290\n",
       "tomburgerpie                          289\n",
       "konakid                               232\n",
       "VHualde                               228\n",
       "Sarcocyne                             197\n",
       "Teddy5                                181\n",
       "tubby123                              179\n",
       "KJDL80                                144\n",
       "petyerakne                            137\n",
       "KLIMCAK-62                            135\n",
       "not-logged-in-0983e811370809f65a36    119\n",
       "keefc                                 117\n",
       "not-logged-in-83a71e0a4ea08030a206    102\n",
       "not-logged-in-4f90b10725a8588860d4     96\n",
       "Teymur_Saif                            90\n",
       "Cathybarnett                           78\n",
       "teolo                                  75\n",
       "sespeight                              75\n",
       "rohit_sharma2                          66\n",
       "Bbllee75                               65\n",
       "not-logged-in-ead887c16c6d6116cbac     62\n",
       "not-logged-in-b241aab728f4526624b3     61\n",
       "kaila-jackson                          60\n",
       "Farra                                  57\n",
       "not-logged-in-4b535daa41c2547181e2     55\n",
       "not-logged-in-34f1943506962b11534d     54\n",
       "                                     ... \n",
       "not-logged-in-5c1ce3e6723459041bd5      1\n",
       "mars25                                  1\n",
       "cyerby                                  1\n",
       "naumenko.pavlik65                       1\n",
       "castles1                                1\n",
       "not-logged-in-b5d73c1019c196e6b0bc      1\n",
       "not-logged-in-d33c5cb03c6401069912      1\n",
       "not-logged-in-0251153ad4650628a2a8      1\n",
       "not-logged-in-5f8c546fdd0b3ea0e951      1\n",
       "not-logged-in-07d9f86a1102fcaf7b50      1\n",
       "not-logged-in-0f285fd2fbf2eae67aea      1\n",
       "not-logged-in-97250d7247306301b20b      1\n",
       "not-logged-in-dc17db6951bbbc38e71e      1\n",
       "not-logged-in-dc3e5a74912b181dc11c      1\n",
       "not-logged-in-9543a53a89adae83a030      1\n",
       "not-logged-in-dde3ec1336cd3e9497c9      1\n",
       "not-logged-in-16cde06f9c590f8c303e      1\n",
       "not-logged-in-df991a4aa2950c2195e8      1\n",
       "not-logged-in-e206cbbb0801f00cd373      1\n",
       "not-logged-in-67ec78f5e95181094266      1\n",
       "not-logged-in-174bee87bc8e8128893f      1\n",
       "not-logged-in-6e457fe688000be71e97      1\n",
       "not-logged-in-903671f62c8edcd9633f      1\n",
       "not-logged-in-8ebc0bf32fd45b9e5197      1\n",
       "not-logged-in-17bc04dd2a10bae59842      1\n",
       "not-logged-in-e9aa9a9c4a541fca629d      1\n",
       "Pwilhelmy                               1\n",
       "not-logged-in-b9c7b71e75ea798e553e      1\n",
       "not-logged-in-af449fe5ffad2bfc2e5c      1\n",
       "not-logged-in-a24d50fe7577bd9a8339      1\n",
       "Name: created_at, Length: 326, dtype: int64"
      ]
     },
     "execution_count": 80,
     "metadata": {},
     "output_type": "execute_result"
    }
   ],
   "source": [
    "nclass_byuser_all = by_user_all.created_at.aggregate('count')\n",
    "nclass_byuser_ranked_all = nclass_byuser_all.copy()\n",
    "nclass_byuser_ranked_all.sort_values(ascending=False)"
   ]
  },
  {
   "cell_type": "code",
   "execution_count": 81,
   "metadata": {},
   "outputs": [
    {
     "data": {
      "text/plain": [
       "user_name\n",
       "Vdeboer75                             322\n",
       "laura.fishman                         290\n",
       "ktarkin                               259\n",
       "Teddy5                                181\n",
       "tubby123                              179\n",
       "petyerakne                            137\n",
       "konakid                               124\n",
       "not-logged-in-4eb4d569344adaa54ddc     96\n",
       "Cathybarnett                           78\n",
       "teolo                                  75\n",
       "sespeight                              75\n",
       "rohit_sharma2                          66\n",
       "KLIMCAK-62                             62\n",
       "aly_ka                                 52\n",
       "not-logged-in-67f9aa364eb7e02ea1a0     44\n",
       "not-logged-in-88b36899aaf1c3fa2f53     40\n",
       "not-logged-in-cf3f5277ece3f9dab6bb     40\n",
       "not-logged-in-18556654332e361106fa     39\n",
       "not-logged-in-8620100def420c662441     38\n",
       "DrPZ                                   35\n",
       "not-logged-in-37af1954548a8dbc45e6     35\n",
       "not-logged-in-735207b258f8e4aa0a2f     33\n",
       "nooneofconsequence                     32\n",
       "not-logged-in-e8338e5aab114d811288     30\n",
       "not-logged-in-0de7190386f8ea29824f     30\n",
       "not-logged-in-cde5904a008d75a5decf     29\n",
       "not-logged-in-2934d89255081431932f     29\n",
       "not-logged-in-3a068d808a26b4b872bc     28\n",
       "pjma95                                 28\n",
       "not-logged-in-b647fa4f33982b050c6a     27\n",
       "                                     ... \n",
       "not-logged-in-5b3e774359d864c05c6f      1\n",
       "not-logged-in-b81b1514282f4ba42d21      1\n",
       "not-logged-in-c37b3f030049f37d426b      1\n",
       "not-logged-in-1eb686f330c86e0b3ee4      1\n",
       "not-logged-in-d1ffd8f75a68ad8b0914      1\n",
       "not-logged-in-14b4f10eff7d35ecd312      1\n",
       "not-logged-in-1309d2663af3d858b1d2      1\n",
       "not-logged-in-cfa49b800acda85dc917      1\n",
       "not-logged-in-243d79150d3287e74b1b      1\n",
       "not-logged-in-26b1562cdc3d99da52a4      1\n",
       "not-logged-in-ced3b6669705210fcc3e      1\n",
       "not-logged-in-09b221af34b60739b6bb      1\n",
       "not-logged-in-2e5f397db0563bdef023      1\n",
       "not-logged-in-321824ca7a46e300dea1      1\n",
       "not-logged-in-34844aac2ffee3e3bdc1      1\n",
       "not-logged-in-be3455dcc1242e8af433      1\n",
       "not-logged-in-d37c4f543c1ae54df7c9      1\n",
       "not-logged-in-3a28f5ce5ccbb43386cb      1\n",
       "mars25                                  1\n",
       "not-logged-in-dc1f0a76a7c7d4d26a74      1\n",
       "not-logged-in-3e5ef3be005d40588283      1\n",
       "not-logged-in-dd6fb71d0caf0f378b92      1\n",
       "not-logged-in-3eecce2f2aaa26ab840b      1\n",
       "not-logged-in-e3e4b4803f3de41d1441      1\n",
       "not-logged-in-48f884b3df554f16f507      1\n",
       "not-logged-in-51aeeb6d70bcae08c0da      1\n",
       "not-logged-in-5473c9e84b0398dc6658      1\n",
       "not-logged-in-e7e70f8db332cd79ef31      1\n",
       "not-logged-in-56e5fe685274ffd1fb8a      1\n",
       "not-logged-in-2dc044f7b821c4a7fc29      1\n",
       "Name: created_at, Length: 246, dtype: int64"
      ]
     },
     "execution_count": 81,
     "metadata": {},
     "output_type": "execute_result"
    }
   ],
   "source": [
    "nclass_byuser_classify = by_user_classify.created_at.aggregate('count')\n",
    "nclass_byuser_ranked_classify = nclass_byuser_classify.copy()\n",
    "nclass_byuser_ranked_classify.sort_values(ascending=False)"
   ]
  },
  {
   "cell_type": "code",
   "execution_count": 82,
   "metadata": {},
   "outputs": [
    {
     "data": {
      "text/plain": [
       "user_name\n",
       "Liava                                 756\n",
       "tomburgerpie                          289\n",
       "VHualde                               228\n",
       "konakid                               108\n",
       "Bbllee75                               65\n",
       "ktarkin                                61\n",
       "not-logged-in-a15062d2763746fb0e91     26\n",
       "rcuthomas                              25\n",
       "not-logged-in-efe7e5716b04258b63ac     24\n",
       "KJDL80                                 21\n",
       "not-logged-in-0586f2014ecd2a1a26cf     19\n",
       "MonkeyDragonCat                        16\n",
       "TheSpacers                             15\n",
       "KLIMCAK-62                             14\n",
       "Storm3of5                              13\n",
       "not-logged-in-c85f4fb9fa67267797cb     12\n",
       "Omniua                                 12\n",
       "Sonia_B                                12\n",
       "not-logged-in-a6bbd75a0340497d1e27      8\n",
       "theBourneian                            7\n",
       "jai                                     6\n",
       "not-logged-in-6a7e73ee14866ef44abe      6\n",
       "not-logged-in-e881e180a99d7d187b18      5\n",
       "not-logged-in-991df6a305bac983a32a      4\n",
       "Budgieye                                4\n",
       "Nelllythetardigrade                     4\n",
       "not-logged-in-ac513d22e5c2423eaf21      4\n",
       "not-logged-in-7a65d9825868a3d2c8f9      4\n",
       "Davinelulinvega                         3\n",
       "not-logged-in-638f49c5644b847a1a67      3\n",
       "not-logged-in-8eb5316419475fcf1bff      3\n",
       "Rogerht                                 2\n",
       "not-logged-in-d4944cffcb056d72356d      2\n",
       "not-logged-in-baa7ab248cdcd04bd2da      2\n",
       "Mtfd2222                                2\n",
       "Rikes                                   2\n",
       "not-logged-in-38965c3e3ccbc3549f52      2\n",
       "Swindlestock                            2\n",
       "not-logged-in-742bb8ed6279a7bc0ddb      2\n",
       "elehcim                                 2\n",
       "not-logged-in-e555a02cd30664558437      2\n",
       "not-logged-in-58d53ade71587f433bc3      2\n",
       "not-logged-in-50e2f5d5b480cb9b3589      1\n",
       "cyerby                                  1\n",
       "not-logged-in-b0086790bcd74a60a72e      1\n",
       "seanozoo                                1\n",
       "not-logged-in-7034ccaab4fa6672322b      1\n",
       "naumenko.pavlik65                       1\n",
       "not-logged-in-3c351ab1a7dc1d4287f3      1\n",
       "Name: created_at, dtype: int64"
      ]
     },
     "execution_count": 82,
     "metadata": {},
     "output_type": "execute_result"
    }
   ],
   "source": [
    "nclass_byuser_hardcore = by_user_hardcore.created_at.aggregate('count')\n",
    "nclass_byuser_ranked_hardcore = nclass_byuser_hardcore.copy()\n",
    "nclass_byuser_ranked_hardcore.sort_values(ascending=False)"
   ]
  },
  {
   "cell_type": "code",
   "execution_count": 89,
   "metadata": {},
   "outputs": [
    {
     "data": {
      "text/plain": [
       "user_name\n",
       "not-logged-in-b838129367183a677b7d    398\n",
       "Sarcocyne                             197\n",
       "keefc                                 117\n",
       "not-logged-in-9987848cc389e26ce2a5    116\n",
       "KJDL80                                105\n",
       "Teymur_Saif                            90\n",
       "kaila-jackson                          70\n",
       "not-logged-in-4330b85304bd7da4fad5     61\n",
       "KLIMCAK-62                             59\n",
       "not-logged-in-23d3c0cec3d8f2d07e34     57\n",
       "Farra                                  57\n",
       "not-logged-in-46c35853b7242a4822dc     55\n",
       "EWILMART                               53\n",
       "not-logged-in-6b57feed7aad08f1ae2b     49\n",
       "Tiger-009                              47\n",
       "not-logged-in-fdb6b61d1296c43dee6d     47\n",
       "smj                                    47\n",
       "not-logged-in-86b6666310d0bb80cfdb     46\n",
       "not-logged-in-880a18cb1f45b8ceb91e     46\n",
       "not-logged-in-d1cc26bcc9862349f9e8     44\n",
       "existentialpenguin                     39\n",
       "not-logged-in-e41ec4c833bd8a781ee3     36\n",
       "S0rCi3r                                32\n",
       "not-logged-in-5fcc38452a8034901413     31\n",
       "not-logged-in-785c89d56de33755a355     25\n",
       "gatoreasy1                             24\n",
       "ZhengTJP                               24\n",
       "not-logged-in-ac20fe5a66f63530624b     22\n",
       "not-logged-in-198ebcccc89bf72c9a06     22\n",
       "Dusty_Diva                             22\n",
       "                                     ... \n",
       "not-logged-in-4aacde318c2749f86f5c      4\n",
       "Violin1306                              4\n",
       "not-logged-in-06880794f0cb62a36937      4\n",
       "not-logged-in-06761969bf180d4c65a7      4\n",
       "Swindlestock                            3\n",
       "BeeQueen                                3\n",
       "not-logged-in-e33ea788e2a5d9e54195      3\n",
       "not-logged-in-cc87a4fee5eda8f57ca4      3\n",
       "Niossim                                 3\n",
       "not-logged-in-cb5a873ea1012b08b912      3\n",
       "not-logged-in-9236525704d089ca9279      2\n",
       "not-logged-in-74560c56f7cf75480d2e      2\n",
       "not-logged-in-348655c656fdff2b7de3      2\n",
       "not-logged-in-e9856232959b4f993d23      2\n",
       "not-logged-in-0e4d0ec0546be06569c7      2\n",
       "ktarkin                                 2\n",
       "not-logged-in-08dc2b36884f40de2228      2\n",
       "NHulse                                  2\n",
       "OrcinusOrcaPod                          2\n",
       "not-logged-in-8f6ac4ce412b28d45384      2\n",
       "not-logged-in-dd13c868aead85196fc8      2\n",
       "marbre                                  2\n",
       "not-logged-in-954671cd82b80b5e8d92      2\n",
       "Liripi                                  1\n",
       "castles1                                1\n",
       "not-logged-in-b077af02a1a5af47d418      1\n",
       "not-logged-in-858e020a4e0e3d4bb988      1\n",
       "not-logged-in-fb3cd89b41d2c6dab166      1\n",
       "not-logged-in-845ae3050d56de5c7998      1\n",
       "not-logged-in-af0b1ae450db2dfff939      1\n",
       "Name: created_at, Length: 87, dtype: int64"
      ]
     },
     "execution_count": 89,
     "metadata": {},
     "output_type": "execute_result"
    }
   ],
   "source": [
    "nclass_byuser_on_the_go = by_user_on_the_go.created_at.aggregate('count')\n",
    "nclass_byuser_ranked_on_the_go = nclass_byuser_on_the_go.copy()\n",
    "nclass_byuser_ranked_on_the_go.sort_values(ascending=False)"
   ]
  },
  {
   "cell_type": "code",
   "execution_count": 84,
   "metadata": {},
   "outputs": [],
   "source": [
    "# very basic stats\n",
    "nclass_med_all = np.median(nclass_byuser_all)\n",
    "nclass_mean_all = np.mean(nclass_byuser_all)\n",
    "\n",
    "nclass_med_classify = np.median(nclass_byuser_classify)\n",
    "nclass_mean_classify = np.mean(nclass_byuser_classify)\n",
    "\n",
    "nclass_med_on_the_go = np.median(nclass_byuser_on_the_go)\n",
    "nclass_mean_on_the_go = np.mean(nclass_byuser_on_the_go)\n",
    "\n",
    "nclass_med_hardcore = np.median(nclass_byuser_hardcore)\n",
    "nclass_mean_hardcore = np.mean(nclass_byuser_hardcore)\n",
    "\n",
    "# Gini coefficient - see the comments above the gini() function for more notes\n",
    "nclass_gini_all = gini(nclass_byuser_all)\n",
    "nclass_gini_classify = gini(nclass_byuser_classify)\n",
    "nclass_gini_on_the_go = gini(nclass_byuser_on_the_go)\n",
    "nclass_gini_hardcore = gini(nclass_byuser_hardcore)"
   ]
  },
  {
   "cell_type": "code",
   "execution_count": 85,
   "metadata": {},
   "outputs": [
    {
     "name": "stdout",
     "output_type": "stream",
     "text": [
      "\n",
      "Overall:\n",
      "\n",
      " 8161 classifications of 521 subjects by 326 classifiers,\n",
      "109 registered and 217 unregistered.\n",
      "\n",
      "That's 15.66 classifications per subject on average (median = 14.0).\n",
      "The most classified subject has  35 classifications; the least-classified subject has 2 .\n",
      "\n",
      "Median number of classifications per user: 7.0\n",
      "Mean number of classifications per user: 25.03\n",
      "\n",
      "Top 10 most prolific classifiers:\n",
      " user_name\n",
      "ArnavRaju         11\n",
      "AstroRobert        6\n",
      "Barbanzi          13\n",
      "Bbllee75          65\n",
      "BeeQueen           3\n",
      "BlueFlamingSky    22\n",
      "Budgieye          12\n",
      "CG1980             5\n",
      "Cathybarnett      78\n",
      "Colin2davies       7\n",
      "Name: created_at, dtype: int64\n",
      "\n",
      "\n",
      "Gini coefficient for classifications by user: 0.74\n",
      "\n"
     ]
    }
   ],
   "source": [
    "print(\"\\nOverall:\\n\\n\",n_class_tot_all,\"classifications of\",n_subj_tot_all,\"subjects by\",n_users_tot_all,\"classifiers,\")\n",
    "print(n_reg_all,\"registered and\",n_unreg_all,\"unregistered.\\n\")\n",
    "print(\"That's %.2f classifications per subject on average (median = %.1f).\" % (subj_class_mean_all, subj_class_med_all))\n",
    "print(\"The most classified subject has \",subj_class_max_all,\"classifications; the least-classified subject has\",subj_class_min_all,\".\\n\")\n",
    "print(\"Median number of classifications per user:\",nclass_med_all)\n",
    "print(\"Mean number of classifications per user: %.2f\" % nclass_mean_all)\n",
    "print(\"\\nTop 10 most prolific classifiers:\\n\",nclass_byuser_ranked_all.head(10))\n",
    "print(\"\\n\\nGini coefficient for classifications by user: %.2f\\n\" % nclass_gini_all)"
   ]
  },
  {
   "cell_type": "code",
   "execution_count": 86,
   "metadata": {},
   "outputs": [
    {
     "name": "stdout",
     "output_type": "stream",
     "text": [
      "\n",
      "Overall:\n",
      "\n",
      " 4003 classifications of 336 subjects by 246 classifiers,\n",
      "63 registered and 183 unregistered.\n",
      "\n",
      "That's 11.91 classifications per subject on average (median = 12.0).\n",
      "The most classified subject has  20 classifications; the least-classified subject has 5 .\n",
      "\n",
      "Median number of classifications per user: 6.0\n",
      "Mean number of classifications per user: 16.27\n",
      "\n",
      "Top 10 most prolific classifiers:\n",
      " user_name\n",
      "ArnavRaju         11\n",
      "BlueFlamingSky    22\n",
      "Budgieye           8\n",
      "CG1980             5\n",
      "Cathybarnett      78\n",
      "DrPZ              35\n",
      "FEWSG              3\n",
      "Faraday12         12\n",
      "GreenLizard        5\n",
      "IRR                9\n",
      "Name: created_at, dtype: int64\n",
      "\n",
      "\n",
      "Gini coefficient for classifications by user: 0.70\n",
      "\n"
     ]
    }
   ],
   "source": [
    "print(\"\\nOverall:\\n\\n\",n_class_tot_classify,\"classifications of\",n_subj_tot_classify,\"subjects by\",n_users_tot_classify,\"classifiers,\")\n",
    "print(n_reg_classify,\"registered and\",n_unreg_classify,\"unregistered.\\n\")\n",
    "print(\"That's %.2f classifications per subject on average (median = %.1f).\" % (subj_class_mean_classify, subj_class_med_classify))\n",
    "print(\"The most classified subject has \",subj_class_max_classify,\"classifications; the least-classified subject has\",subj_class_min_classify,\".\\n\")\n",
    "print(\"Median number of classifications per user:\",nclass_med_classify)\n",
    "print(\"Mean number of classifications per user: %.2f\" % nclass_mean_classify)\n",
    "print(\"\\nTop 10 most prolific classifiers:\\n\",nclass_byuser_ranked_classify.head(10))\n",
    "print(\"\\n\\nGini coefficient for classifications by user: %.2f\\n\" % nclass_gini_classify)"
   ]
  },
  {
   "cell_type": "code",
   "execution_count": 87,
   "metadata": {},
   "outputs": [
    {
     "name": "stdout",
     "output_type": "stream",
     "text": [
      "\n",
      "Overall:\n",
      "\n",
      " 2362 classifications of 336 subjects by 87 classifiers,\n",
      "40 registered and 47 unregistered.\n",
      "\n",
      "That's 7.03 classifications per subject on average (median = 7.0).\n",
      "The most classified subject has  14 classifications; the least-classified subject has 2 .\n",
      "\n",
      "Median number of classifications per user: 8.0\n",
      "Mean number of classifications per user: 27.15\n",
      "\n",
      "Top 10 most prolific classifiers:\n",
      " user_name\n",
      "AstroRobert       6\n",
      "Barbanzi         13\n",
      "BeeQueen          3\n",
      "Colin2davies      7\n",
      "Davydoo          16\n",
      "Dusty_Diva       22\n",
      "EWILMART         53\n",
      "Farra            57\n",
      "KJDL80          105\n",
      "KLIMCAK-62       59\n",
      "Name: created_at, dtype: int64\n",
      "\n",
      "\n",
      "Gini coefficient for classifications by user: 0.68\n",
      "\n"
     ]
    }
   ],
   "source": [
    "print(\"\\nOverall:\\n\\n\",n_class_tot_on_the_go,\"classifications of\",n_subj_tot_on_the_go,\"subjects by\",n_users_tot_on_the_go,\"classifiers,\")\n",
    "print(n_reg_on_the_go,\"registered and\",n_unreg_on_the_go,\"unregistered.\\n\")\n",
    "print(\"That's %.2f classifications per subject on average (median = %.1f).\" % (subj_class_mean_on_the_go, subj_class_med_on_the_go))\n",
    "print(\"The most classified subject has \",subj_class_max_on_the_go,\"classifications; the least-classified subject has\",subj_class_min_on_the_go,\".\\n\")\n",
    "print(\"Median number of classifications per user:\",nclass_med_on_the_go)\n",
    "print(\"Mean number of classifications per user: %.2f\" % nclass_mean_on_the_go)\n",
    "print(\"\\nTop 10 most prolific classifiers:\\n\",nclass_byuser_ranked_on_the_go.head(10))\n",
    "print(\"\\n\\nGini coefficient for classifications by user: %.2f\\n\" % nclass_gini_on_the_go)"
   ]
  },
  {
   "cell_type": "code",
   "execution_count": 88,
   "metadata": {},
   "outputs": [
    {
     "name": "stdout",
     "output_type": "stream",
     "text": [
      "\n",
      "Overall:\n",
      "\n",
      " 1806 classifications of 336 subjects by 49 classifiers,\n",
      "27 registered and 22 unregistered.\n",
      "\n",
      "That's 5.38 classifications per subject on average (median = 5.0).\n",
      "The most classified subject has  15 classifications; the least-classified subject has 1 .\n",
      "\n",
      "Median number of classifications per user: 4.0\n",
      "Mean number of classifications per user: 36.86\n",
      "\n",
      "Top 10 most prolific classifiers:\n",
      " user_name\n",
      "Bbllee75                65\n",
      "Budgieye                 4\n",
      "Davinelulinvega          3\n",
      "KJDL80                  21\n",
      "KLIMCAK-62              14\n",
      "Liava                  756\n",
      "MonkeyDragonCat         16\n",
      "Mtfd2222                 2\n",
      "Nelllythetardigrade      4\n",
      "Omniua                  12\n",
      "Name: created_at, dtype: int64\n",
      "\n",
      "\n",
      "Gini coefficient for classifications by user: 0.84\n",
      "\n"
     ]
    }
   ],
   "source": [
    "print(\"\\nOverall:\\n\\n\",n_class_tot_hardcore,\"classifications of\",n_subj_tot_hardcore,\"subjects by\",n_users_tot_hardcore,\"classifiers,\")\n",
    "print(n_reg_hardcore,\"registered and\",n_unreg_hardcore,\"unregistered.\\n\")\n",
    "print(\"That's %.2f classifications per subject on average (median = %.1f).\" % (subj_class_mean_hardcore, subj_class_med_hardcore))\n",
    "print(\"The most classified subject has \",subj_class_max_hardcore,\"classifications; the least-classified subject has\",subj_class_min_hardcore,\".\\n\")\n",
    "print(\"Median number of classifications per user:\",nclass_med_hardcore)\n",
    "print(\"Mean number of classifications per user: %.2f\" % nclass_mean_hardcore)\n",
    "print(\"\\nTop 10 most prolific classifiers:\\n\",nclass_byuser_ranked_hardcore.head(10))\n",
    "print(\"\\n\\nGini coefficient for classifications by user: %.2f\\n\" % nclass_gini_hardcore)"
   ]
  },
  {
   "cell_type": "code",
   "execution_count": null,
   "metadata": {},
   "outputs": [],
   "source": []
  }
 ],
 "metadata": {
  "kernelspec": {
   "display_name": "Python 3",
   "language": "python",
   "name": "python3"
  },
  "language_info": {
   "codemirror_mode": {
    "name": "ipython",
    "version": 3
   },
   "file_extension": ".py",
   "mimetype": "text/x-python",
   "name": "python",
   "nbconvert_exporter": "python",
   "pygments_lexer": "ipython3",
   "version": "3.7.4"
  }
 },
 "nbformat": 4,
 "nbformat_minor": 2
}
