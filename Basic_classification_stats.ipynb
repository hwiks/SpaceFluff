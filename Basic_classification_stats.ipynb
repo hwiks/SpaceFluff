{
 "cells": [
  {
   "cell_type": "markdown",
   "metadata": {},
   "source": [
    "# Basic classification stats"
   ]
  },
  {
   "cell_type": "markdown",
   "metadata": {},
   "source": [
    "These script is heavily inspired from https://github.com/zooniverse/Data-digging/blob/master/scripts_GeneralPython/basic_classification_processing.py"
   ]
  },
  {
   "cell_type": "code",
   "execution_count": 1,
   "metadata": {},
   "outputs": [],
   "source": [
    "import numpy as np \n",
    "import pandas as pd\n",
    "import json\n",
    "from datetime import date"
   ]
  },
  {
   "cell_type": "code",
   "execution_count": 2,
   "metadata": {},
   "outputs": [],
   "source": [
    "def gini(list_of_values):\n",
    "    sorted_list = sorted(list_of_values)\n",
    "    height, area = 0, 0\n",
    "    for value in sorted_list:\n",
    "        height += value\n",
    "        area += height - value / 2.\n",
    "    fair_area = height * len(list_of_values) / 2\n",
    "    return (fair_area - area) / fair_area"
   ]
  },
  {
   "cell_type": "markdown",
   "metadata": {},
   "source": [
    "Space Fluff, at the time of Beta, has 3 workflows: \n",
    "    - 'Classify!'\n",
    "    - 'Classify on the go!'\n",
    "    - 'Hardcore version!'\n",
    "These are all based on simple multiple choice questions. "
   ]
  },
  {
   "cell_type": "code",
   "execution_count": 3,
   "metadata": {},
   "outputs": [],
   "source": [
    "workflow_classify = '~/Desktop/SUNDIAL/images/beta_classify-classifications.csv'\n",
    "workflow_on_the_go = '~/Desktop/SUNDIAL/images/beta_classify-on-the-go-classifications.csv'\n",
    "workflow_hardcore = '~/Desktop/SUNDIAL/images/beta_classify-hardcore-edition-classifications.csv'\n",
    "workflow_all = '~/Desktop/SUNDIAL/images/beta_space-fluff-classifications.csv'"
   ]
  },
  {
   "cell_type": "code",
   "execution_count": 4,
   "metadata": {},
   "outputs": [],
   "source": [
    "classifications_classify = pd.read_csv(workflow_classify)\n",
    "classifications_on_the_go = pd.read_csv(workflow_on_the_go)\n",
    "classifications_hardcore = pd.read_csv(workflow_hardcore)\n",
    "classifications_all = pd.read_csv(workflow_all)"
   ]
  },
  {
   "cell_type": "markdown",
   "metadata": {},
   "source": [
    "If you want to select a certain period of time, you can use this snippets here:"
   ]
  },
  {
   "cell_type": "code",
   "execution_count": 5,
   "metadata": {},
   "outputs": [],
   "source": [
    "## To select between two dates\n",
    "#classifications['created_at'] = pd.to_datetime(classifications['created_at'])\n",
    "#classifications[(classifications['created_at'] > pd.Timestamp(date(2020,10,20)))& (classifications['created_at'] < pd.Timestamp(date(2020,10,21)))]\n",
    "\n",
    "## To select after a certain date\n",
    "\n",
    "#classifications['created_at'] = pd.to_datetime(classifications['created_at'])\n",
    "#classifications = classifications[classifications['created_at'] > pd.Timestamp(date(2020,10,20))]\n",
    "\n",
    "## Remember to turn the data type back to strings\n",
    "\n",
    "#classifications['created_at'] = str(classifications['created_at'])"
   ]
  },
  {
   "cell_type": "markdown",
   "metadata": {},
   "source": [
    "In our case, we want to select the classifications made during the Beta Phase. "
   ]
  },
  {
   "cell_type": "code",
   "execution_count": 6,
   "metadata": {},
   "outputs": [],
   "source": [
    "#for all classifications: 32229\n",
    "classifications_all = classifications_all[32239:]\n",
    "#for 'Classify!': 6295\n",
    "classifications_classify = classifications_classify[6295:]\n",
    "#for 'Classify on the go!': 19989\n",
    "classifications_on_the_go = classifications_on_the_go[19989:]\n",
    "#for 'Classify: hardcore edition!': 5945\n",
    "classifications_hardcore = classifications_hardcore[5945:]"
   ]
  },
  {
   "cell_type": "code",
   "execution_count": 7,
   "metadata": {},
   "outputs": [],
   "source": [
    "# grab the subject counts \n",
    "n_subj_tot_all  = len(classifications_all.subject_data.unique())\n",
    "by_subject_all = classifications_all.groupby('subject_data')\n",
    "subj_class_all = by_subject_all.created_at.aggregate('count')\n",
    "\n",
    "n_subj_tot_classify  = len(classifications_classify.subject_data.unique())\n",
    "by_subject_classify = classifications_classify.groupby('subject_data')\n",
    "subj_class_classify = by_subject_classify.created_at.aggregate('count')\n",
    "\n",
    "n_subj_tot_on_the_go  = len(classifications_on_the_go.subject_data.unique())\n",
    "by_subject_on_the_go = classifications_on_the_go.groupby('subject_data')\n",
    "subj_class_on_the_go = by_subject_on_the_go.created_at.aggregate('count')\n",
    "\n",
    "n_subj_tot_hardcore  = len(classifications_hardcore.subject_data.unique())\n",
    "by_subject_hardcore = classifications_hardcore.groupby('subject_data')\n",
    "subj_class_hardcore = by_subject_hardcore.created_at.aggregate('count')"
   ]
  },
  {
   "cell_type": "code",
   "execution_count": 8,
   "metadata": {},
   "outputs": [],
   "source": [
    "# basic stats on how classified the subjects are\n",
    "subj_class_mean_all = np.mean(subj_class_all)\n",
    "subj_class_med_all  = np.median(subj_class_all)\n",
    "subj_class_min_all  = np.min(subj_class_all)\n",
    "subj_class_max_all  = np.max(subj_class_all)\n",
    "\n",
    "subj_class_mean_classify = np.mean(subj_class_classify)\n",
    "subj_class_med_classify  = np.median(subj_class_classify)\n",
    "subj_class_min_classify  = np.min(subj_class_classify)\n",
    "subj_class_max_classify  = np.max(subj_class_classify)\n",
    "\n",
    "subj_class_mean_on_the_go = np.mean(subj_class_on_the_go)\n",
    "subj_class_med_on_the_go  = np.median(subj_class_on_the_go)\n",
    "subj_class_min_on_the_go  = np.min(subj_class_on_the_go)\n",
    "subj_class_max_on_the_go  = np.max(subj_class_on_the_go)\n",
    "\n",
    "subj_class_mean_hardcore = np.mean(subj_class_hardcore)\n",
    "subj_class_med_hardcore  = np.median(subj_class_hardcore)\n",
    "subj_class_min_hardcore  = np.min(subj_class_hardcore)\n",
    "subj_class_max_hardcore  = np.max(subj_class_hardcore)"
   ]
  },
  {
   "cell_type": "code",
   "execution_count": 9,
   "metadata": {},
   "outputs": [],
   "source": [
    "all_users_all = classifications_all.user_name.unique()\n",
    "by_user_all = classifications_all.groupby('user_name')\n",
    "\n",
    "all_users_classify = classifications_classify.user_name.unique()\n",
    "by_user_classify = classifications_classify.groupby('user_name')\n",
    "\n",
    "all_users_on_the_go = classifications_on_the_go.user_name.unique()\n",
    "by_user_on_the_go = classifications_on_the_go.groupby('user_name')\n",
    "\n",
    "all_users_hardcore = classifications_hardcore.user_name.unique()\n",
    "by_user_hardcore = classifications_hardcore.groupby('user_name')"
   ]
  },
  {
   "cell_type": "code",
   "execution_count": 10,
   "metadata": {},
   "outputs": [],
   "source": [
    "# get total classification and user counts for all classifications\n",
    "n_class_tot_all = len(classifications_all)\n",
    "n_users_tot_all = len(all_users_all)\n",
    "\n",
    "unregistered_all = [q.startswith(\"not-logged-in\") for q in all_users_all]\n",
    "n_unreg_all = sum(unregistered_all)\n",
    "n_reg_all   = n_users_tot_all - n_unreg_all"
   ]
  },
  {
   "cell_type": "code",
   "execution_count": 11,
   "metadata": {},
   "outputs": [],
   "source": [
    "# get total classification and user counts for Classify\n",
    "n_class_tot_classify = len(classifications_classify)\n",
    "n_users_tot_classify = len(all_users_classify)\n",
    "\n",
    "unregistered_classify = [q.startswith(\"not-logged-in\") for q in all_users_classify]\n",
    "n_unreg_classify = sum(unregistered_classify)\n",
    "n_reg_classify = n_users_tot_classify - n_unreg_classify"
   ]
  },
  {
   "cell_type": "code",
   "execution_count": 12,
   "metadata": {},
   "outputs": [],
   "source": [
    "# get total classification and user counts for on the go\n",
    "n_class_tot_on_the_go = len(classifications_on_the_go)\n",
    "n_users_tot_on_the_go = len(all_users_on_the_go)\n",
    "\n",
    "unregistered_on_the_go = [q.startswith(\"not-logged-in\") for q in all_users_on_the_go]\n",
    "n_unreg_on_the_go = sum(unregistered_on_the_go)\n",
    "n_reg_on_the_go = n_users_tot_on_the_go - n_unreg_on_the_go"
   ]
  },
  {
   "cell_type": "code",
   "execution_count": 13,
   "metadata": {},
   "outputs": [],
   "source": [
    "# get total classification and user counts for hardcore\n",
    "n_class_tot_hardcore = len(classifications_hardcore)\n",
    "n_users_tot_hardcore = len(all_users_hardcore)\n",
    "\n",
    "unregistered_hardcore = [q.startswith(\"not-logged-in\") for q in all_users_hardcore]\n",
    "n_unreg_hardcore = sum(unregistered_hardcore)\n",
    "n_reg_hardcore = n_users_tot_hardcore - n_unreg_hardcore"
   ]
  },
  {
   "cell_type": "code",
   "execution_count": 14,
   "metadata": {},
   "outputs": [],
   "source": [
    "nclass_byuser_all = by_user_all.created_at.aggregate('count')\n",
    "nclass_byuser_ranked_all = nclass_byuser_all.copy()\n",
    "#nclass_byuser_ranked_all.sort_values(ascending=False)"
   ]
  },
  {
   "cell_type": "code",
   "execution_count": 15,
   "metadata": {},
   "outputs": [],
   "source": [
    "nclass_byuser_classify = by_user_classify.created_at.aggregate('count')\n",
    "nclass_byuser_ranked_classify = nclass_byuser_classify.copy()\n",
    "#nclass_byuser_ranked_classify.sort_values(ascending=False)"
   ]
  },
  {
   "cell_type": "code",
   "execution_count": 17,
   "metadata": {},
   "outputs": [],
   "source": [
    "nclass_byuser_hardcore = by_user_hardcore.created_at.aggregate('count')\n",
    "nclass_byuser_ranked_hardcore = nclass_byuser_hardcore.copy()\n",
    "#nclass_byuser_ranked_hardcore.sort_values(ascending=False)"
   ]
  },
  {
   "cell_type": "code",
   "execution_count": 18,
   "metadata": {},
   "outputs": [],
   "source": [
    "nclass_byuser_on_the_go = by_user_on_the_go.created_at.aggregate('count')\n",
    "nclass_byuser_ranked_on_the_go = nclass_byuser_on_the_go.copy()\n",
    "#nclass_byuser_ranked_on_the_go.sort_values(ascending=False)"
   ]
  },
  {
   "cell_type": "code",
   "execution_count": 20,
   "metadata": {},
   "outputs": [],
   "source": [
    "# very basic stats\n",
    "nclass_med_all = np.median(nclass_byuser_all)\n",
    "nclass_mean_all = np.mean(nclass_byuser_all)\n",
    "\n",
    "nclass_med_classify = np.median(nclass_byuser_classify)\n",
    "nclass_mean_classify = np.mean(nclass_byuser_classify)\n",
    "\n",
    "nclass_med_on_the_go = np.median(nclass_byuser_on_the_go)\n",
    "nclass_mean_on_the_go = np.mean(nclass_byuser_on_the_go)\n",
    "\n",
    "nclass_med_hardcore = np.median(nclass_byuser_hardcore)\n",
    "nclass_mean_hardcore = np.mean(nclass_byuser_hardcore)\n",
    "\n",
    "# Gini coefficient - see the comments above the gini() function for more notes\n",
    "nclass_gini_all = gini(nclass_byuser_all)\n",
    "nclass_gini_classify = gini(nclass_byuser_classify)\n",
    "nclass_gini_on_the_go = gini(nclass_byuser_on_the_go)\n",
    "nclass_gini_hardcore = gini(nclass_byuser_hardcore)"
   ]
  },
  {
   "cell_type": "code",
   "execution_count": 21,
   "metadata": {},
   "outputs": [
    {
     "name": "stdout",
     "output_type": "stream",
     "text": [
      "\n",
      "Overall:\n",
      "\n",
      " 8161 classifications of 521 subjects by 326 classifiers,\n",
      "109 registered and 217 unregistered.\n",
      "\n",
      "That's 15.66 classifications per subject on average (median = 14.0).\n",
      "The most classified subject has  35 classifications; the least-classified subject has 2 .\n",
      "\n",
      "Median number of classifications per user: 7.0\n",
      "Mean number of classifications per user: 25.03\n",
      "\n",
      "\n",
      "Gini coefficient for classifications by user: 0.74\n",
      "\n"
     ]
    }
   ],
   "source": [
    "print(\"\\nOverall:\\n\\n\",n_class_tot_all,\"classifications of\",n_subj_tot_all,\"subjects by\",n_users_tot_all,\"classifiers,\")\n",
    "print(n_reg_all,\"registered and\",n_unreg_all,\"unregistered.\\n\")\n",
    "print(\"That's %.2f classifications per subject on average (median = %.1f).\" % (subj_class_mean_all, subj_class_med_all))\n",
    "print(\"The most classified subject has \",subj_class_max_all,\"classifications; the least-classified subject has\",subj_class_min_all,\".\\n\")\n",
    "print(\"Median number of classifications per user:\",nclass_med_all)\n",
    "print(\"Mean number of classifications per user: %.2f\" % nclass_mean_all)\n",
    "#print(\"\\nTop 10 most prolific classifiers:\\n\",nclass_byuser_ranked_all.head(10))\n",
    "print(\"\\n\\nGini coefficient for classifications by user: %.2f\\n\" % nclass_gini_all)"
   ]
  },
  {
   "cell_type": "code",
   "execution_count": 22,
   "metadata": {},
   "outputs": [
    {
     "name": "stdout",
     "output_type": "stream",
     "text": [
      "\n",
      "Overall:\n",
      "\n",
      " 4003 classifications of 336 subjects by 246 classifiers,\n",
      "63 registered and 183 unregistered.\n",
      "\n",
      "That's 11.91 classifications per subject on average (median = 12.0).\n",
      "The most classified subject has  20 classifications; the least-classified subject has 5 .\n",
      "\n",
      "Median number of classifications per user: 6.0\n",
      "Mean number of classifications per user: 16.27\n",
      "\n",
      "\n",
      "Gini coefficient for classifications by user: 0.70\n",
      "\n"
     ]
    }
   ],
   "source": [
    "print(\"\\nOverall:\\n\\n\",n_class_tot_classify,\"classifications of\",n_subj_tot_classify,\"subjects by\",n_users_tot_classify,\"classifiers,\")\n",
    "print(n_reg_classify,\"registered and\",n_unreg_classify,\"unregistered.\\n\")\n",
    "print(\"That's %.2f classifications per subject on average (median = %.1f).\" % (subj_class_mean_classify, subj_class_med_classify))\n",
    "print(\"The most classified subject has \",subj_class_max_classify,\"classifications; the least-classified subject has\",subj_class_min_classify,\".\\n\")\n",
    "print(\"Median number of classifications per user:\",nclass_med_classify)\n",
    "print(\"Mean number of classifications per user: %.2f\" % nclass_mean_classify)\n",
    "#print(\"\\nTop 10 most prolific classifiers:\\n\",nclass_byuser_ranked_classify.head(10))\n",
    "print(\"\\n\\nGini coefficient for classifications by user: %.2f\\n\" % nclass_gini_classify)"
   ]
  },
  {
   "cell_type": "code",
   "execution_count": 23,
   "metadata": {},
   "outputs": [
    {
     "name": "stdout",
     "output_type": "stream",
     "text": [
      "\n",
      "Overall:\n",
      "\n",
      " 2362 classifications of 336 subjects by 87 classifiers,\n",
      "40 registered and 47 unregistered.\n",
      "\n",
      "That's 7.03 classifications per subject on average (median = 7.0).\n",
      "The most classified subject has  14 classifications; the least-classified subject has 2 .\n",
      "\n",
      "Median number of classifications per user: 8.0\n",
      "Mean number of classifications per user: 27.15\n",
      "\n",
      "\n",
      "Gini coefficient for classifications by user: 0.68\n",
      "\n"
     ]
    }
   ],
   "source": [
    "print(\"\\nOverall:\\n\\n\",n_class_tot_on_the_go,\"classifications of\",n_subj_tot_on_the_go,\"subjects by\",n_users_tot_on_the_go,\"classifiers,\")\n",
    "print(n_reg_on_the_go,\"registered and\",n_unreg_on_the_go,\"unregistered.\\n\")\n",
    "print(\"That's %.2f classifications per subject on average (median = %.1f).\" % (subj_class_mean_on_the_go, subj_class_med_on_the_go))\n",
    "print(\"The most classified subject has \",subj_class_max_on_the_go,\"classifications; the least-classified subject has\",subj_class_min_on_the_go,\".\\n\")\n",
    "print(\"Median number of classifications per user:\",nclass_med_on_the_go)\n",
    "print(\"Mean number of classifications per user: %.2f\" % nclass_mean_on_the_go)\n",
    "#print(\"\\nTop 10 most prolific classifiers:\\n\",nclass_byuser_ranked_on_the_go.head(10))\n",
    "print(\"\\n\\nGini coefficient for classifications by user: %.2f\\n\" % nclass_gini_on_the_go)"
   ]
  },
  {
   "cell_type": "code",
   "execution_count": 25,
   "metadata": {},
   "outputs": [
    {
     "name": "stdout",
     "output_type": "stream",
     "text": [
      "\n",
      "Overall:\n",
      "\n",
      " 1806 classifications of 336 subjects by 49 classifiers,\n",
      "27 registered and 22 unregistered.\n",
      "\n",
      "That's 5.38 classifications per subject on average (median = 5.0).\n",
      "The most classified subject has  15 classifications; the least-classified subject has 1 .\n",
      "\n",
      "Median number of classifications per user: 4.0\n",
      "Mean number of classifications per user: 36.86\n",
      "\n",
      "\n",
      "Gini coefficient for classifications by user: 0.84\n",
      "\n"
     ]
    }
   ],
   "source": [
    "print(\"\\nOverall:\\n\\n\",n_class_tot_hardcore,\"classifications of\",n_subj_tot_hardcore,\"subjects by\",n_users_tot_hardcore,\"classifiers,\")\n",
    "print(n_reg_hardcore,\"registered and\",n_unreg_hardcore,\"unregistered.\\n\")\n",
    "print(\"That's %.2f classifications per subject on average (median = %.1f).\" % (subj_class_mean_hardcore, subj_class_med_hardcore))\n",
    "print(\"The most classified subject has \",subj_class_max_hardcore,\"classifications; the least-classified subject has\",subj_class_min_hardcore,\".\\n\")\n",
    "print(\"Median number of classifications per user:\",nclass_med_hardcore)\n",
    "print(\"Mean number of classifications per user: %.2f\" % nclass_mean_hardcore)\n",
    "#print(\"\\nTop 10 most prolific classifiers:\\n\",nclass_byuser_ranked_hardcore.head(10))\n",
    "print(\"\\n\\nGini coefficient for classifications by user: %.2f\\n\" % nclass_gini_hardcore)"
   ]
  },
  {
   "cell_type": "code",
   "execution_count": null,
   "metadata": {},
   "outputs": [],
   "source": []
  }
 ],
 "metadata": {
  "kernelspec": {
   "display_name": "Python 3",
   "language": "python",
   "name": "python3"
  },
  "language_info": {
   "codemirror_mode": {
    "name": "ipython",
    "version": 3
   },
   "file_extension": ".py",
   "mimetype": "text/x-python",
   "name": "python",
   "nbconvert_exporter": "python",
   "pygments_lexer": "ipython3",
   "version": "3.7.4"
  }
 },
 "nbformat": 4,
 "nbformat_minor": 2
}
