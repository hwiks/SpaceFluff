{
 "cells": [
  {
   "cell_type": "markdown",
   "metadata": {},
   "source": [
    "# Votes"
   ]
  },
  {
   "cell_type": "markdown",
   "metadata": {},
   "source": [
    "Here I create .csv files with the rows corresponding to the images, and the columns corresponding to the votes for a certain answer to a certain question"
   ]
  },
  {
   "cell_type": "code",
   "execution_count": 22,
   "metadata": {},
   "outputs": [],
   "source": [
    "import pandas as pd\n",
    "import json\n",
    "import numpy as np\n",
    "import os\n",
    "import itertools\n",
    "import re"
   ]
  },
  {
   "cell_type": "code",
   "execution_count": 23,
   "metadata": {},
   "outputs": [],
   "source": [
    "filename_classify = '/home/anna/Desktop/SUNDIAL/images/beta_space-fluff_classifications_clean.csv'\n",
    "filename_onthego = '/home/anna/Desktop/SUNDIAL/images/beta_space-fluff_onthego_clean.csv'\n",
    "filename_hardcore = '/home/anna/Desktop/SUNDIAL/images/beta_space-fluff_hardcore_clean.csv'"
   ]
  },
  {
   "cell_type": "code",
   "execution_count": 24,
   "metadata": {},
   "outputs": [],
   "source": [
    "data_classify = pd.read_csv(filename_classify)\n",
    "data_onthego = pd.read_csv(filename_onthego)\n",
    "data_hardcore = pd.read_csv(filename_hardcore)"
   ]
  },
  {
   "cell_type": "code",
   "execution_count": 25,
   "metadata": {},
   "outputs": [],
   "source": [
    "def answers_count(file, taskvalue, answer):\n",
    "    howmany_answers = 0 \n",
    "    for line in file[taskvalue]:\n",
    "        if str(line).lower() == answer.lower():\n",
    "            howmany_answers += 1\n",
    "    return howmany_answers\n",
    "\n",
    "def read(path):\n",
    "    with open(path, 'r', encoding=\"utf-8\") as f:\n",
    "        return f.read().splitlines()"
   ]
  },
  {
   "cell_type": "code",
   "execution_count": 26,
   "metadata": {},
   "outputs": [],
   "source": [
    "filename_list = '/home/anna/Desktop/SUNDIAL/images/aux_data.txt'\n",
    "variable_list = read(filename_list)"
   ]
  },
  {
   "cell_type": "code",
   "execution_count": 27,
   "metadata": {},
   "outputs": [],
   "source": [
    "def record_votes_onthego():\n",
    "    file = data_onthego\n",
    "    beta_path = '/home/anna/Desktop/SUNDIAL/images/beta'\n",
    "\n",
    "    votes = pd.DataFrame(columns = ['image ID', 'total', 'galaxy', 'cluster', 'something else'])\n",
    "    \n",
    "    for image in os.listdir(beta_path):\n",
    "        image_classifications = file.loc[file['subject_name_onthego'] == image]\n",
    "        total = len(image_classifications)\n",
    "        galaxies = answers_count(image_classifications, 'taskvalue_T0_onthego', 'galaxy')\n",
    "        clusters = answers_count(image_classifications, 'taskvalue_T0_onthego', 'Group of objects (cluster)')    \n",
    "        other = answers_count(image_classifications, 'taskvalue_T0_onthego', 'Something else/empty center')  \n",
    " \n",
    "        votes = votes.append({'image ID': image, 'total':total, 'galaxy': galaxies, 'cluster':clusters , 'something else': other}, ignore_index = True)\n",
    "    return(votes)\n",
    "\n",
    "def coordinates():\n",
    "    coordinates = pd.DataFrame(columns = ['image ID','RA', 'DEC'])\n",
    "    \n",
    "    for myline in itertools.islice(variable_list, None):\n",
    "        line = myline.split()\n",
    "        x = re.findall('[0-9]+', line[0])\n",
    "        if os.path.exists('/home/anna/Desktop/SUNDIAL/images/beta/UDGcand_'+str(x[0])+'_insp.png') is True:\n",
    "            coordinates = coordinates.append({'image ID': 'UDGcand_'+str(x[0])+'_insp.png', 'RA': line[1], 'DEC': line[2]}, ignore_index = True)\n",
    "    return(coordinates)"
   ]
  },
  {
   "cell_type": "code",
   "execution_count": 28,
   "metadata": {},
   "outputs": [],
   "source": [
    "def record_votes_classify():\n",
    "    file = data_classify\n",
    "    beta_path = '/home/anna/Desktop/SUNDIAL/images/beta'\n",
    "\n",
    "    votes = pd.DataFrame(columns = ['image ID', 'total', 'galaxy', 'cluster', 'something else', \n",
    "                                    'fluffy', 'bright', 'scattered light', 'small star', 'nothing',\n",
    "                                    'something else entirely'])\n",
    "    \n",
    "    for image in os.listdir(beta_path):\n",
    "        image_classifications = file.loc[file['subject_name_classify'] == image]        \n",
    "        total = len(image_classifications)\n",
    "        galaxies = answers_count(image_classifications, 'taskvalue_T0_classify', 'galaxy')\n",
    "        clusters = answers_count(image_classifications, 'taskvalue_T0_classify', 'Group of objects (cluster)')    \n",
    "        other = answers_count(image_classifications, 'taskvalue_T0_classify', 'Something else/empty center')  \n",
    "        fluffs = answers_count(image_classifications, 'taskvalue_T1_classify', 'fluffy')  \n",
    "        brights = answers_count(image_classifications, 'taskvalue_T1_classify', 'bright')  \n",
    "        scattered = answers_count(image_classifications, 'taskvalue_T2_classify', 'Scattered light')  \n",
    "        small_star = answers_count(image_classifications, 'taskvalue_T2_classify', 'looks like a small star') \n",
    "        nothing = answers_count(image_classifications, 'taskvalue_T2_classify', 'nothing: background too bright or galaxy too faint') \n",
    "        other_other = answers_count(image_classifications, 'taskvalue_T2_classify', 'something else') \n",
    "\n",
    "        votes = votes.append({'image ID': image, 'total':total, 'galaxy': galaxies,\n",
    "                              'cluster':clusters , 'something else': other,  'fluffy': fluffs,\n",
    "                              'bright': brights, 'scattered light':scattered, 'small star':small_star,\n",
    "                              'nothing':nothing, 'something else entirely':other_other}, ignore_index = True)\n",
    "    return(votes)\n"
   ]
  },
  {
   "cell_type": "code",
   "execution_count": 29,
   "metadata": {},
   "outputs": [],
   "source": [
    "def record_votes_hardcore():\n",
    "    file = data_hardcore\n",
    "    beta_path = '/home/anna/Desktop/SUNDIAL/images/beta'\n",
    "\n",
    "    votes = pd.DataFrame(columns = ['image ID', 'total', 'galaxy', 'cluster', 'something else', 'red', 'blue', 'impossible',\n",
    "                                    'fluffy', 'bright', 'no core', 'bright core', 'bulge', 'round', 'elliptical', 'disturbed',\n",
    "                                    'dense', 'fuzzy', 'clumpy','scattered light', 'small star', 'nothing', \n",
    "                                    'something else entirely'])\n",
    "    \n",
    "    for image in os.listdir(beta_path):\n",
    "        image_classifications = file.loc[file['subject_name'] == image]    \n",
    "        \n",
    "        total = len(image_classifications)\n",
    "        \n",
    "        galaxies = answers_count(image_classifications, 'taskvalue_T0', 'galaxy')\n",
    "        clusters = answers_count(image_classifications, 'taskvalue_T0', 'Group of objects (cluster)')    \n",
    "        other = answers_count(image_classifications, 'taskvalue_T0', 'Something else/empty center')  \n",
    "\n",
    "        red = answers_count(image_classifications, 'taskvalue_T1', 'Red/yellow')\n",
    "        blue = answers_count(image_classifications, 'taskvalue_T1', 'white/blue')    \n",
    "        impossible = answers_count(image_classifications, 'taskvalue_T1', 'impossible to say')     \n",
    "\n",
    "        fluffs = answers_count(image_classifications, 'taskvalue_T2', 'fluffy')  \n",
    "        brights = answers_count(image_classifications, 'taskvalue_T2', 'bright')  \n",
    "    \n",
    "        nocore = answers_count(image_classifications, 'taskvalue_T3', 'no/unsure')\n",
    "        bright_core= answers_count(image_classifications, 'taskvalue_T3', 'yes, a bright point')    \n",
    "        bulge = answers_count(image_classifications, 'taskvalue_T3', 'yes, a bulge')     \n",
    "\n",
    "        rounds = answers_count(image_classifications, 'taskvalue_T4', 'round')\n",
    "        elliptical = answers_count(image_classifications, 'taskvalue_T4', 'elliptical')    \n",
    "        disturbed = answers_count(image_classifications, 'taskvalue_T4', 'distorted/disturbed')     \n",
    "      \n",
    "        dense = answers_count(image_classifications, 'taskvalue_T5', 'smooth and dense')\n",
    "        fuzzy = answers_count(image_classifications, 'taskvalue_T5', 'smooth and fuzzy')    \n",
    "        clumpy = answers_count(image_classifications, 'taskvalue_T5', 'clumpy and/or featured')     \n",
    "      \n",
    "        \n",
    "        scattered = answers_count(image_classifications, 'taskvalue_T9', 'Scattered light')  \n",
    "        small_star = answers_count(image_classifications, 'taskvalue_T9', 'looks like a small star') \n",
    "        nothing = answers_count(image_classifications, 'taskvalue_T9', 'nothing: background too bright or galaxy too faint') \n",
    "        other_other = answers_count(image_classifications, 'taskvalue_T9', 'something else') \n",
    "        \n",
    "        votes = votes.append({'image ID': image, 'total':total, 'galaxy': galaxies, 'cluster':clusters ,\n",
    "                              'something else': other, 'red':red, 'blue':blue, 'impossible': impossible,\n",
    "                              'fluffy': fluffs, 'bright': brights, 'no core':nocore, 'bright core':bright_core,\n",
    "                              'bulge':bulge, 'round':rounds, 'elliptical':elliptical, 'disturbed':disturbed,\n",
    "                              'dense':dense, 'fuzzy':fuzzy, 'clumpy':clumpy,'scattered light':scattered, \n",
    "                              'small star':small_star, 'nothing':nothing, 'something else entirely':other_other}, ignore_index = True)\n",
    "\n",
    "    return(votes)\n"
   ]
  },
  {
   "cell_type": "code",
   "execution_count": 30,
   "metadata": {},
   "outputs": [],
   "source": [
    "votes_onthego = record_votes_onthego()\n",
    "votes_classify = record_votes_classify()\n",
    "votes_hardcore = record_votes_hardcore()\n",
    "coord = coordinates()\n",
    "\n",
    "votes_coordinates_onthego = pd.merge(votes_onthego, coord, on = 'image ID')\n",
    "votes_coordinates_classify = pd.merge(votes_classify, coord, on = 'image ID')\n",
    "votes_coordinates_hardcore = pd.merge(votes_hardcore, coord, on = 'image ID')\n",
    "\n"
   ]
  },
  {
   "cell_type": "code",
   "execution_count": 31,
   "metadata": {},
   "outputs": [],
   "source": [
    "votes_coordinates_onthego.to_csv('votes_onthego.csv', index = True)"
   ]
  },
  {
   "cell_type": "code",
   "execution_count": 32,
   "metadata": {},
   "outputs": [],
   "source": [
    "votes_coordinates_classify.to_csv('votes_classify.csv', index = True)"
   ]
  },
  {
   "cell_type": "code",
   "execution_count": 33,
   "metadata": {},
   "outputs": [],
   "source": [
    "votes_coordinates_hardcore.to_csv('votes_hardcore.csv', index = True)"
   ]
  },
  {
   "cell_type": "code",
   "execution_count": null,
   "metadata": {},
   "outputs": [],
   "source": []
  }
 ],
 "metadata": {
  "kernelspec": {
   "display_name": "Python 3",
   "language": "python",
   "name": "python3"
  },
  "language_info": {
   "codemirror_mode": {
    "name": "ipython",
    "version": 3
   },
   "file_extension": ".py",
   "mimetype": "text/x-python",
   "name": "python",
   "nbconvert_exporter": "python",
   "pygments_lexer": "ipython3",
   "version": "3.7.4"
  }
 },
 "nbformat": 4,
 "nbformat_minor": 2
}
